{
 "cells": [
  {
   "cell_type": "markdown",
   "id": "d465724e-0c23-4d19-90ba-5453af4c8577",
   "metadata": {},
   "source": [
    "# Python中正则表达式教学文档"
   ]
  },
  {
   "cell_type": "markdown",
   "id": "3f58269f-42da-4ce1-b98c-482276818170",
   "metadata": {},
   "source": [
    "## 1. 正则表达式的基本原理和作用  \n",
    "正则表达式（Regular Expressions，简称regex或regexp）是一种用于字符串搜索和操作的强大工具。它使用单个字符串来描述、匹配一系列符合某个句法规则的字符串。"
   ]
  },
  {
   "cell_type": "markdown",
   "id": "1fdd1e68-27c0-439f-b65b-402a944766e4",
   "metadata": {},
   "source": [
    "### 作用  \n",
    "* 模式匹配：识别符合某个模式的字符串。  \n",
    "* 数据提取：从一段文本中提取出我们感兴趣的部分。  \n",
    "* 数据清洗：格式化和清理数据，使其更适合分析。"
   ]
  },
  {
   "cell_type": "markdown",
   "id": "2c7174ee-6cf1-4ea8-a32d-4efe76004ed0",
   "metadata": {},
   "source": [
    "### 在经济与管理学研究中的应用场景  \n",
    "* 文本分析：从经济报告、新闻或社交媒体中提取关键词或主题。  \n",
    "* 数据清洗：处理调查问卷数据，移除不需要的字符或格式化数据。  \n",
    "* 合规性检查：验证输入数据是否符合特定格式，如电话号码、邮箱地址等。"
   ]
  },
  {
   "cell_type": "markdown",
   "id": "21c81dc1-e623-4d16-bedf-a0c0e99d6f7d",
   "metadata": {},
   "source": [
    "## 2. 使用正则表达式搜索某个字符  \n",
    "在Python中，re模块提供了正则表达式的支持。  \n",
    "### 函数说明\n",
    "* re.search(pattern, string)：在字符串中搜索模式，如果找到匹配，则返回匹配对象，否则返回None。\n",
    "* re.findall(pattern, string)：返回字符串中所有匹配模式的子串。"
   ]
  },
  {
   "cell_type": "markdown",
   "id": "0572c11c-b8b6-453c-99d3-378f85bf8c15",
   "metadata": {},
   "source": [
    "### 示例代码"
   ]
  },
  {
   "cell_type": "code",
   "execution_count": 3,
   "id": "7c33725f-6ce4-4510-a09b-51070810f507",
   "metadata": {},
   "outputs": [
    {
     "name": "stdout",
     "output_type": "stream",
     "text": [
      "Found: 99\n",
      "All numbers: ['99', '99']\n"
     ]
    }
   ],
   "source": [
    "import re\n",
    "\n",
    "# 搜索字符串中的数字\n",
    "pattern = r'\\d+'\n",
    "text = \"The price of the product is 99.99 dollars.\"\n",
    "match = re.search(pattern, text)\n",
    "if match:\n",
    "    print(\"Found:\", match.group())  # 输出找到的第一个数字\n",
    "\n",
    "# 找出所有数字\n",
    "numbers = re.findall(pattern, text)\n",
    "print(\"All numbers:\", numbers)  # 输出所有数字"
   ]
  },
  {
   "cell_type": "markdown",
   "id": "dfe79118-e16a-4a05-9b52-c94ce133fb3b",
   "metadata": {},
   "source": [
    "## 3. 使用正则表达式替换某个字符\n",
    "### 函数说明\n",
    "* re.sub(pattern, repl, string)：将字符串中所有匹配模式的子串替换为repl。"
   ]
  },
  {
   "cell_type": "markdown",
   "id": "58140abf-8db4-455a-8b22-124ee113785f",
   "metadata": {},
   "source": [
    "### 示例代码"
   ]
  },
  {
   "cell_type": "code",
   "execution_count": null,
   "id": "093d21db-4215-44d9-8696-1d470c63b933",
   "metadata": {},
   "outputs": [],
   "source": [
    "# 将文本中的所有数字替换为\"XXX\"\n",
    "pattern = r'\\d+'\n",
    "text = \"The price of the product is 99.99 dollars.\"\n",
    "new_text = re.sub(pattern, 'XXX', text)\n",
    "print(\"Modified text:\", new_text)"
   ]
  },
  {
   "cell_type": "markdown",
   "id": "48174b16-03d0-4b7e-8863-4032e0776187",
   "metadata": {},
   "source": [
    "## 4. 使用正则表达式分割文本\n",
    "### 函数说明\n",
    "* re.split(pattern, string)：根据模式指定的分隔符分割字符串。"
   ]
  },
  {
   "cell_type": "markdown",
   "id": "127f633b-3a87-4012-81d4-1a73a14034b3",
   "metadata": {},
   "source": [
    "### 示例代码"
   ]
  },
  {
   "cell_type": "code",
   "execution_count": null,
   "id": "7d8f49ce-aa14-4e6d-8e47-c15035968e34",
   "metadata": {},
   "outputs": [],
   "source": [
    "# 使用正则表达式分割电话号码\n",
    "pattern = r'\\W+'\n",
    "phone = \"Contact: 1-800-123-4567\"\n",
    "parts = re.split(pattern, phone)\n",
    "print(\"Split phone number:\", parts)  # 输出分割后的电话号码部分"
   ]
  },
  {
   "cell_type": "markdown",
   "id": "c16e5e2c-f9ee-46bd-a8df-fed9a387ec92",
   "metadata": {},
   "source": [
    "## 总结  \n",
    "正则表达式是Python中处理字符串的强大工具，通过上述示例，我们学习了如何使用正则表达式进行搜索、替换和分割操作。在经济与管理学研究中，正则表达式可以帮助我们处理和分析大量的文本数据，从而更好地理解市场动态、消费者行为等。"
   ]
  },
  {
   "cell_type": "code",
   "execution_count": null,
   "id": "e5a09104-344e-4386-8ec9-4a3fac12770e",
   "metadata": {},
   "outputs": [],
   "source": []
  }
 ],
 "metadata": {
  "kernelspec": {
   "display_name": "Python 3 (ipykernel)",
   "language": "python",
   "name": "python3"
  },
  "language_info": {
   "codemirror_mode": {
    "name": "ipython",
    "version": 3
   },
   "file_extension": ".py",
   "mimetype": "text/x-python",
   "name": "python",
   "nbconvert_exporter": "python",
   "pygments_lexer": "ipython3",
   "version": "3.10.12"
  }
 },
 "nbformat": 4,
 "nbformat_minor": 5
}
