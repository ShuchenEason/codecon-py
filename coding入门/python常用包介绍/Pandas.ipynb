{
 "cells": [
  {
   "cell_type": "markdown",
   "source": [
    "# Pandas 的基础使用"
   ],
   "metadata": {
    "collapsed": false
   },
   "id": "15bbe8a2367c6559"
  },
  {
   "cell_type": "markdown",
   "source": [
    "Pandas 是一个强大的 Python 数据分析工具包，它提供了快速、灵活以及表达力强的数据结构，旨在使数据清洗和分析工作变得更加简单易行。  \n",
    "以下是一个简单的示例，展示了如何使用Python的Pandas库来处理经济或管理研究中的数据。"
   ],
   "metadata": {
    "collapsed": false
   },
   "id": "b46ba6ab26926b1b"
  },
  {
   "cell_type": "markdown",
   "source": [
    "## 1. 安装 pandas  \n",
    "如果您还没有安装 Pandas，可以通过以下命令安装："
   ],
   "metadata": {
    "collapsed": false
   },
   "id": "f5d834f70dc4e0aa"
  },
  {
   "cell_type": "code",
   "outputs": [],
   "source": [
    "!pip install pandas"
   ],
   "metadata": {
    "collapsed": false
   },
   "id": "90d941172e56997c"
  },
  {
   "cell_type": "markdown",
   "source": [
    "## 2. 导入 pandas"
   ],
   "metadata": {
    "collapsed": false
   },
   "id": "77cc456afb1e33b0"
  },
  {
   "cell_type": "code",
   "outputs": [],
   "source": [
    "import pandas as pd"
   ],
   "metadata": {
    "collapsed": false,
    "ExecuteTime": {
     "end_time": "2024-04-21T09:40:30.382473Z",
     "start_time": "2024-04-21T09:40:29.773914Z"
    }
   },
   "id": "47e24adca9f6a14a",
   "execution_count": 2
  },
  {
   "cell_type": "markdown",
   "source": [
    "## 3. 创建Dataframe数据集  \n",
    "pandas 也提供了多种直接读取文件的方式（pd.read_csv, pd.read_excel, pd.read_stata etc.)， 此案例为方便说明，直接生成两个数据集"
   ],
   "metadata": {
    "collapsed": false
   },
   "id": "bcccb878797c4733"
  },
  {
   "cell_type": "code",
   "outputs": [],
   "source": [
    "import pandas as pd\n",
    "\n",
    "# 创建员工工资数据集\n",
    "data_employee = {\n",
    "    'EmployeeID': [1, 2, 3, 4, 5],\n",
    "    'Name': ['John', 'Anna', 'Peter', 'Linda', 'Martin'],\n",
    "    'Salary': [50000, 60000, 55000, 52000, 58000]\n",
    "}\n",
    "df_employee = pd.DataFrame(data_employee)\n",
    "\n",
    "# 创建产品销售数据集\n",
    "data_sales = {\n",
    "    'ProductID': [101, 102, 103, 104, 105],\n",
    "    'ProductName': ['Apple', 'Banana', 'Cherry', 'Date', 'Elderberry'],\n",
    "    'Sales': [200, 150, 300, 250, 180]\n",
    "}\n",
    "df_sales = pd.DataFrame(data_sales)"
   ],
   "metadata": {
    "collapsed": false,
    "ExecuteTime": {
     "end_time": "2024-04-21T09:40:30.950266Z",
     "start_time": "2024-04-21T09:40:30.946482Z"
    }
   },
   "id": "d508784828b56b78",
   "execution_count": 3
  },
  {
   "cell_type": "markdown",
   "source": [
    "## 4. 查看数据结构"
   ],
   "metadata": {
    "collapsed": false
   },
   "id": "5b7f9480d68a9bcc"
  },
  {
   "cell_type": "code",
   "outputs": [
    {
     "name": "stdout",
     "output_type": "stream",
     "text": [
      "<class 'pandas.core.frame.DataFrame'>\n",
      "RangeIndex: 5 entries, 0 to 4\n",
      "Data columns (total 3 columns):\n",
      " #   Column      Non-Null Count  Dtype \n",
      "---  ------      --------------  ----- \n",
      " 0   EmployeeID  5 non-null      int64 \n",
      " 1   Name        5 non-null      object\n",
      " 2   Salary      5 non-null      int64 \n",
      "dtypes: int64(2), object(1)\n",
      "memory usage: 248.0+ bytes\n",
      "None\n",
      "<class 'pandas.core.frame.DataFrame'>\n",
      "RangeIndex: 5 entries, 0 to 4\n",
      "Data columns (total 3 columns):\n",
      " #   Column       Non-Null Count  Dtype \n",
      "---  ------       --------------  ----- \n",
      " 0   ProductID    5 non-null      int64 \n",
      " 1   ProductName  5 non-null      object\n",
      " 2   Sales        5 non-null      int64 \n",
      "dtypes: int64(2), object(1)\n",
      "memory usage: 248.0+ bytes\n",
      "None\n"
     ]
    }
   ],
   "source": [
    "# 查看员工数据集的结构\n",
    "print(df_employee.info())\n",
    "\n",
    "# 查看产品销售数据集的结构\n",
    "print(df_sales.info())"
   ],
   "metadata": {
    "collapsed": false,
    "ExecuteTime": {
     "end_time": "2024-04-21T09:40:31.883706Z",
     "start_time": "2024-04-21T09:40:31.878689Z"
    }
   },
   "id": "fd0d1a898cf3cfd3",
   "execution_count": 4
  },
  {
   "cell_type": "markdown",
   "source": [
    "对于较大的表格，我们希望只显示dataframe的前n行，可以使用df.head(n)函数"
   ],
   "metadata": {
    "collapsed": false
   },
   "id": "f741230b62f4abf8"
  },
  {
   "cell_type": "code",
   "outputs": [
    {
     "data": {
      "text/plain": "   EmployeeID  Name  Salary\n0           1  John   50000\n1           2  Anna   60000",
      "text/html": "<div>\n<style scoped>\n    .dataframe tbody tr th:only-of-type {\n        vertical-align: middle;\n    }\n\n    .dataframe tbody tr th {\n        vertical-align: top;\n    }\n\n    .dataframe thead th {\n        text-align: right;\n    }\n</style>\n<table border=\"1\" class=\"dataframe\">\n  <thead>\n    <tr style=\"text-align: right;\">\n      <th></th>\n      <th>EmployeeID</th>\n      <th>Name</th>\n      <th>Salary</th>\n    </tr>\n  </thead>\n  <tbody>\n    <tr>\n      <th>0</th>\n      <td>1</td>\n      <td>John</td>\n      <td>50000</td>\n    </tr>\n    <tr>\n      <th>1</th>\n      <td>2</td>\n      <td>Anna</td>\n      <td>60000</td>\n    </tr>\n  </tbody>\n</table>\n</div>"
     },
     "execution_count": 5,
     "metadata": {},
     "output_type": "execute_result"
    }
   ],
   "source": [
    "df_employee.head(2)"
   ],
   "metadata": {
    "collapsed": false,
    "ExecuteTime": {
     "end_time": "2024-04-21T09:40:33.217112Z",
     "start_time": "2024-04-21T09:40:33.167298Z"
    }
   },
   "id": "63fb7ebf71670e5c",
   "execution_count": 5
  },
  {
   "cell_type": "markdown",
   "source": [
    "## 5. 数据选择"
   ],
   "metadata": {
    "collapsed": false
   },
   "id": "99991dfe6675be28"
  },
  {
   "cell_type": "code",
   "outputs": [],
   "source": [
    "# 选择Salary列\n",
    "salary = df_employee['Salary']\n",
    "\n",
    "# 选择前两行\n",
    "first_two_rows = df_employee.head(2)"
   ],
   "metadata": {
    "collapsed": false,
    "ExecuteTime": {
     "end_time": "2024-04-21T09:40:34.278855Z",
     "start_time": "2024-04-21T09:40:34.274857Z"
    }
   },
   "id": "89ca2603fe226160",
   "execution_count": 6
  },
  {
   "cell_type": "markdown",
   "source": [
    "## 6.  数据合并"
   ],
   "metadata": {
    "collapsed": false
   },
   "id": "62e9256a74674cc8"
  },
  {
   "cell_type": "code",
   "outputs": [],
   "source": [
    "# 假设我们要根据EmployeeID和ProductID进行合并\n",
    "df_combined = pd.merge(df_employee, df_sales, left_on='EmployeeID', right_on='ProductID')"
   ],
   "metadata": {
    "collapsed": false,
    "ExecuteTime": {
     "end_time": "2024-04-21T09:40:36.190445Z",
     "start_time": "2024-04-21T09:40:36.186499Z"
    }
   },
   "id": "43be602efe713532",
   "execution_count": 7
  },
  {
   "cell_type": "markdown",
   "source": [
    "## 7. 数据描述性统计"
   ],
   "metadata": {
    "collapsed": false
   },
   "id": "75d5941047a58720"
  },
  {
   "cell_type": "code",
   "outputs": [
    {
     "name": "stdout",
     "output_type": "stream",
     "text": [
      "count        5.000000\n",
      "mean     55000.000000\n",
      "std       4123.105626\n",
      "min      50000.000000\n",
      "25%      52000.000000\n",
      "50%      55000.000000\n",
      "75%      58000.000000\n",
      "max      60000.000000\n",
      "Name: Salary, dtype: float64\n"
     ]
    }
   ],
   "source": [
    "# 计算Salary的描述性统计\n",
    "descriptive_stats = df_employee['Salary'].describe()\n",
    "print(descriptive_stats)"
   ],
   "metadata": {
    "collapsed": false,
    "ExecuteTime": {
     "end_time": "2024-04-21T09:40:38.136666Z",
     "start_time": "2024-04-21T09:40:38.131847Z"
    }
   },
   "id": "4b229334fd996880",
   "execution_count": 8
  },
  {
   "cell_type": "markdown",
   "source": [
    "## 8. 使用groupby方法可以对数据进行分组，然后进行聚合操作。"
   ],
   "metadata": {
    "collapsed": false
   },
   "id": "1bab9dc3a41caa9d"
  },
  {
   "cell_type": "code",
   "outputs": [
    {
     "name": "stdout",
     "output_type": "stream",
     "text": [
      "             sum  count\n",
      "ProductName            \n",
      "Apple        200      1\n",
      "Banana       150      1\n",
      "Cherry       300      1\n",
      "Date         250      1\n",
      "Elderberry   180      1\n"
     ]
    }
   ],
   "source": [
    "# 假设我们要根据ProductName分组求和Sales，并计算每组内的样本数量\n",
    "grouped_sales = df_sales.groupby('ProductName')['Sales'].agg(['sum', 'count'])\n",
    "print(grouped_sales)"
   ],
   "metadata": {
    "collapsed": false,
    "ExecuteTime": {
     "end_time": "2024-04-21T09:40:39.743433Z",
     "start_time": "2024-04-21T09:40:39.740144Z"
    }
   },
   "id": "ca089d93a34a87db",
   "execution_count": 9
  }
 ],
 "metadata": {
  "kernelspec": {
   "display_name": "Python 3",
   "language": "python",
   "name": "python3"
  },
  "language_info": {
   "codemirror_mode": {
    "name": "ipython",
    "version": 2
   },
   "file_extension": ".py",
   "mimetype": "text/x-python",
   "name": "python",
   "nbconvert_exporter": "python",
   "pygments_lexer": "ipython2",
   "version": "2.7.6"
  }
 },
 "nbformat": 4,
 "nbformat_minor": 5
}
